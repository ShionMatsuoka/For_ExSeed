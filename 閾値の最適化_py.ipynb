{
  "nbformat": 4,
  "nbformat_minor": 0,
  "metadata": {
    "colab": {
      "provenance": [],
      "gpuType": "T4",
      "authorship_tag": "ABX9TyMMDk9r3pJ8ntqDnpLb3uzt",
      "include_colab_link": true
    },
    "kernelspec": {
      "name": "python3",
      "display_name": "Python 3"
    },
    "language_info": {
      "name": "python"
    },
    "accelerator": "GPU"
  },
  "cells": [
    {
      "cell_type": "markdown",
      "metadata": {
        "id": "view-in-github",
        "colab_type": "text"
      },
      "source": [
        "<a href=\"https://colab.research.google.com/github/ShionMatsuoka/For_ExSeed/blob/main/%E9%96%BE%E5%80%A4%E3%81%AE%E6%9C%80%E9%81%A9%E5%8C%96_py.ipynb\" target=\"_parent\"><img src=\"https://colab.research.google.com/assets/colab-badge.svg\" alt=\"Open In Colab\"/></a>"
      ]
    },
    {
      "cell_type": "code",
      "execution_count": null,
      "metadata": {
        "id": "s3toPg5o1mpa"
      },
      "outputs": [],
      "source": [
        "import gc\n",
        "import lightgbm as lgb\n",
        "from sklearn.ensemble import VotingRegressor\n",
        "import numpy as np # linear algebra\n",
        "import pandas as pd # data processing, CSV file I/O (e.g. pd.read_csv)\n",
        "import re\n",
        "import spacy\n",
        "import string\n",
        "import random\n",
        "from sklearn.model_selection import train_test_split, GridSearchCV, RandomizedSearchCV\n",
        "from sklearn.ensemble import GradientBoostingClassifier,BaggingClassifier\n",
        "from sklearn.feature_extraction.text import CountVectorizer,TfidfVectorizer, HashingVectorizer\n",
        "from sklearn.pipeline import Pipeline\n",
        "from sklearn.feature_selection import SelectFromModel\n",
        "import matplotlib.pyplot as plt\n",
        "from sklearn.datasets import make_classification\n",
        "from sklearn.model_selection import train_test_split, StratifiedKFold\n",
        "from sklearn.metrics import confusion_matrix, ConfusionMatrixDisplay, f1_score\n",
        "from sklearn.metrics import cohen_kappa_score\n",
        "from lightgbm import log_evaluation, early_stopping\n",
        "from sklearn.linear_model import SGDClassifier\n",
        "import polars as pl\n",
        "import joblib\n",
        "from sklearn.linear_model import LinearRegression"
      ]
    },
    {
      "cell_type": "code",
      "source": [
        "data=pd.read_csv('/content/valid_df_fold_0_v1.csv')\n",
        "for i in range(4):\n",
        "  read=pd.read_csv(f'/content/valid_df_fold_{i+1}_v1.csv')\n",
        "  data=pd.concat([data,read])\n",
        "\n",
        "\n"
      ],
      "metadata": {
        "id": "2sX_hc9g16K5"
      },
      "execution_count": null,
      "outputs": []
    },
    {
      "cell_type": "code",
      "source": [
        "print(data)"
      ],
      "metadata": {
        "colab": {
          "base_uri": "https://localhost:8080/"
        },
        "id": "uiL2x1oxjSq1",
        "outputId": "5215e54d-b578-4ff2-87e7-b14171eeb782"
      },
      "execution_count": null,
      "outputs": [
        {
          "output_type": "stream",
          "name": "stdout",
          "text": [
            "     essay_id                                          full_text  score  \\\n",
            "0     001bdc0  We all heard about Venus, the planet without a...      4   \n",
            "1     0033037  The posibilty of a face reconizing computer wo...      2   \n",
            "2     0066c7c  My position on driveless cars are bad because ...      2   \n",
            "3     0072128  Imagine a world without garages, gastations, o...      4   \n",
            "4     0079f2a  In the text the author uses facts that people ...      2   \n",
            "...       ...                                                ...    ...   \n",
            "3456  ffc9095  Venus, an extraordinary planet because of many...      3   \n",
            "3457  ffcb264  Using technology is a good way to help other i...      2   \n",
            "3458  ffd378d  the story \" The Challenge of Exploing Venus \" ...      2   \n",
            "3459  ffddf1f  Technology has changed a lot of ways that we l...      4   \n",
            "3460  fff016d  If you don't like sitting around all day than ...      2   \n",
            "\n",
            "      label  fold      pred  \n",
            "0       3.0   0.0  3.486328  \n",
            "1       1.0   0.0  2.120117  \n",
            "2       1.0   0.0  2.020508  \n",
            "3       3.0   0.0  4.128906  \n",
            "4       1.0   0.0  1.009880  \n",
            "...     ...   ...       ...  \n",
            "3456    2.0   4.0  2.971680  \n",
            "3457    1.0   4.0  2.632812  \n",
            "3458    1.0   4.0  1.900391  \n",
            "3459    3.0   4.0  3.935547  \n",
            "3460    1.0   4.0  2.046875  \n",
            "\n",
            "[17307 rows x 6 columns]\n"
          ]
        }
      ]
    },
    {
      "cell_type": "code",
      "source": [
        "from sklearn.metrics import cohen_kappa_score\n",
        "def quadratic_weighted_kappa(y_true, y_pred):\n",
        "    y_true = y_true + a\n",
        "    y_pred = (y_pred + a).clip(1, 6).round()\n",
        "    qwk = cohen_kappa_score(y_true, y_pred, weights=\"quadratic\")\n",
        "    return 'QWK', qwk, True\n",
        "def qwk_obj(y_true, y_pred):\n",
        "    labels = y_true + a\n",
        "    preds = y_pred + a\n",
        "    preds = preds.clip(1, 6)\n",
        "    f = 1/2*np.sum((preds-labels)**2)\n",
        "    g = 1/2*np.sum((preds-a)**2+b)\n",
        "    df = preds - labels\n",
        "    dg = preds - a\n",
        "    grad = (df/g - f*dg/g**2)*len(labels)\n",
        "    hess = np.ones(len(labels))\n",
        "    return grad, hess\n",
        "\n",
        "a = 2.998\n",
        "b = 1.092\n",
        "callbacks = [log_evaluation(period=25), early_stopping(stopping_rounds=75,first_metric_only=True)]"
      ],
      "metadata": {
        "id": "DvaG9mIJCX5K"
      },
      "execution_count": null,
      "outputs": []
    },
    {
      "cell_type": "code",
      "source": [
        "for fold in range(len(data['fold'].unique())):\n",
        "  train = data[data['fold'] != fold]\n",
        "  valid = data[data['fold'] == fold]\n",
        "  X_train_fold, X_test_fold = train['pred'].values, valid['pred'].values #.reshape(-1, 1)\n",
        "  y_train_fold, y_test_fold = train['score'], valid['score']\n",
        "\n",
        "\n"
      ],
      "metadata": {
        "id": "aB1POjufBQNe"
      },
      "execution_count": null,
      "outputs": []
    },
    {
      "cell_type": "code",
      "source": [
        "print(data)"
      ],
      "metadata": {
        "colab": {
          "base_uri": "https://localhost:8080/"
        },
        "id": "LXv-H1_GHoDs",
        "outputId": "fd2aaf8e-dcbe-4f89-c093-75d7c3a6a930"
      },
      "execution_count": null,
      "outputs": [
        {
          "output_type": "stream",
          "name": "stdout",
          "text": [
            "     essay_id                                          full_text  score  \\\n",
            "0     001bdc0  We all heard about Venus, the planet without a...      4   \n",
            "1     0033037  The posibilty of a face reconizing computer wo...      2   \n",
            "2     0066c7c  My position on driveless cars are bad because ...      2   \n",
            "3     0072128  Imagine a world without garages, gastations, o...      4   \n",
            "4     0079f2a  In the text the author uses facts that people ...      2   \n",
            "...       ...                                                ...    ...   \n",
            "3456  ffc9095  Venus, an extraordinary planet because of many...      3   \n",
            "3457  ffcb264  Using technology is a good way to help other i...      2   \n",
            "3458  ffd378d  the story \" The Challenge of Exploing Venus \" ...      2   \n",
            "3459  ffddf1f  Technology has changed a lot of ways that we l...      4   \n",
            "3460  fff016d  If you don't like sitting around all day than ...      2   \n",
            "\n",
            "      label  fold      pred  \n",
            "0       3.0   0.0  3.486328  \n",
            "1       1.0   0.0  2.120117  \n",
            "2       1.0   0.0  2.020508  \n",
            "3       3.0   0.0  4.128906  \n",
            "4       1.0   0.0  1.009880  \n",
            "...     ...   ...       ...  \n",
            "3456    2.0   4.0  2.971680  \n",
            "3457    1.0   4.0  2.632812  \n",
            "3458    1.0   4.0  1.900391  \n",
            "3459    3.0   4.0  3.935547  \n",
            "3460    1.0   4.0  2.046875  \n",
            "\n",
            "[17307 rows x 6 columns]\n"
          ]
        }
      ]
    },
    {
      "cell_type": "code",
      "source": [],
      "metadata": {
        "id": "LiYRppXGO-N3"
      },
      "execution_count": null,
      "outputs": []
    },
    {
      "cell_type": "code",
      "source": [],
      "metadata": {
        "id": "UwBmSMeSnThc"
      },
      "execution_count": null,
      "outputs": []
    },
    {
      "cell_type": "code",
      "source": [],
      "metadata": {
        "id": "1fevmHuFqPRQ"
      },
      "execution_count": null,
      "outputs": []
    },
    {
      "cell_type": "code",
      "source": [],
      "metadata": {
        "id": "hWd8v71DwaKn"
      },
      "execution_count": null,
      "outputs": []
    },
    {
      "cell_type": "code",
      "source": [],
      "metadata": {
        "id": "Hp7Dw6bGwfnU"
      },
      "execution_count": null,
      "outputs": []
    },
    {
      "cell_type": "code",
      "source": [
        "import numpy as np\n",
        "import pandas as pd\n",
        "from sklearn.metrics import cohen_kappa_score\n",
        "from sklearn.model_selection import train_test_split\n",
        "\n",
        "# QWKカスタム評価関数の定義\n",
        "def qwk_metric(y_true, y_pred):\n",
        "    y_true = np.array(y_true)\n",
        "    y_pred = np.clip(np.round(y_pred), 0, 5).astype(int)  # 0から5の範囲にクリップし、四捨五入して整数に変換\n",
        "    qwk = cohen_kappa_score(y_true, y_pred, weights=\"quadratic\")\n",
        "    return qwk\n",
        "\n",
        "# 最適な閾値を決定する関数\n",
        "def find_best_thresholds(y_true, y_pred):\n",
        "    best_qwk = -np.inf\n",
        "    best_thresholds = [0.5, 1.5, 2.5, 3.5, 4.5]  # 初期値\n",
        "\n",
        "    for t1 in np.arange(0.5, 1.5, 0.1):\n",
        "        for t2 in np.arange(1.5, 2.5, 0.1):\n",
        "            for t3 in np.arange(2.5, 3.5, 0.1):\n",
        "                for t4 in np.arange(3.5, 4.5, 0.1):\n",
        "                    for t5 in np.arange(4.5, 5.5, 0.1):\n",
        "                        thresholds = [t1, t2, t3, t4, t5]\n",
        "                        y_pred_classes = np.digitize(y_pred, thresholds, right=True)\n",
        "                        qwk = qwk_metric(y_true, y_pred_classes)\n",
        "                        if qwk > best_qwk:\n",
        "                            best_qwk = qwk\n",
        "                            best_thresholds = thresholds\n",
        "\n",
        "    return best_thresholds\n",
        "\n",
        "\n",
        "\n",
        "# 各foldの結果を保存するリストを作成\n",
        "qwk_scores = []\n",
        "thresholds_list = []  # 閾値を保存するリスト\n",
        "\n",
        "# クロスバリデーションを実行\n",
        "for fold in range(len(data['fold'].unique())):\n",
        "    # トレーニングデータと検証データを分割\n",
        "    train = data[data['fold'] != fold]\n",
        "    valid = data[data['fold'] == fold]\n",
        "\n",
        "    y_train_fold, y_test_fold = train['label'], valid['label']\n",
        "    y_pred_fold = valid['pred']\n",
        "\n",
        "    # 最適な閾値を見つける\n",
        "    best_thresholds = find_best_thresholds(y_test_fold, y_pred_fold)\n",
        "    thresholds_list.append(best_thresholds)\n",
        "\n",
        "    # 最適な閾値を使って予測値を分類\n",
        "    y_pred_classes = np.digitize(y_pred_fold, best_thresholds, right=True)\n",
        "\n",
        "    # QWKを計算\n",
        "    qwk = qwk_metric(y_test_fold, y_pred_classes)\n",
        "    qwk_scores.append(qwk)\n",
        "\n",
        "    # 結果を表示\n",
        "    print(f\"Fold {fold}: QWK = {qwk}, Thresholds = {best_thresholds}\")\n",
        "\n",
        "# 全体の平均QWKを表示\n",
        "print(f\"Average QWK: {np.mean(qwk_scores)}\")\n",
        "print(f\"Best Thresholds: {thresholds_list}\")"
      ],
      "metadata": {
        "colab": {
          "base_uri": "https://localhost:8080/"
        },
        "id": "Ui_P39Gb3F_3",
        "outputId": "f8cc9aa1-1912-40ea-a910-11ae6e278142"
      },
      "execution_count": null,
      "outputs": [
        {
          "output_type": "stream",
          "name": "stdout",
          "text": [
            "Fold 0: QWK = 0.8298384555346395, Thresholds = [1.4, 2.400000000000001, 3.400000000000001, 4.300000000000001, 5.299999999999997]\n",
            "Fold 1: QWK = 0.8422129859750804, Thresholds = [1.4, 2.400000000000001, 3.3000000000000007, 4.300000000000001, 5.099999999999998]\n",
            "Fold 2: QWK = 0.8136805118337954, Thresholds = [1.4, 2.400000000000001, 3.3000000000000007, 4.200000000000001, 5.1999999999999975]\n",
            "Fold 3: QWK = 0.837739128999028, Thresholds = [1.4, 2.400000000000001, 3.400000000000001, 4.200000000000001, 5.1999999999999975]\n",
            "Fold 4: QWK = 0.8313025691609749, Thresholds = [1.4, 2.400000000000001, 3.400000000000001, 4.4, 5.299999999999997]\n",
            "Average QWK: 0.8309547303007037\n",
            "Best Thresholds: [[1.4, 2.400000000000001, 3.400000000000001, 4.300000000000001, 5.299999999999997], [1.4, 2.400000000000001, 3.3000000000000007, 4.300000000000001, 5.099999999999998], [1.4, 2.400000000000001, 3.3000000000000007, 4.200000000000001, 5.1999999999999975], [1.4, 2.400000000000001, 3.400000000000001, 4.200000000000001, 5.1999999999999975], [1.4, 2.400000000000001, 3.400000000000001, 4.4, 5.299999999999997]]\n"
          ]
        }
      ]
    }
  ]
}